{
 "cells": [
  {
   "cell_type": "markdown",
   "metadata": {},
   "source": [
    "# Einführung in Topic Modeling mit Python - Step 1: Datensatz organisieren\n",
    "\n",
    "## 1. Datenkorpus laden\n"
   ]
  },
  {
   "cell_type": "code",
   "execution_count": null,
   "metadata": {},
   "outputs": [],
   "source": [
    "import pandas as pd"
   ]
  },
  {
   "cell_type": "code",
   "execution_count": null,
   "metadata": {},
   "outputs": [],
   "source": [
    "# read csv into dataframe object\n",
    "corpus = pd.read_csv(\"data/speeches-bundesregierung.csv\", encoding=\"UTF-8\") # update path\n",
    "print(f\"Der Datzensatz enthält {corpus.shape[0]} Reden mit {corpus.shape[1]} Attributen.\")"
   ]
  },
  {
   "cell_type": "code",
   "execution_count": null,
   "metadata": {},
   "outputs": [],
   "source": [
    "corpus.head()"
   ]
  },
  {
   "cell_type": "code",
   "execution_count": null,
   "metadata": {},
   "outputs": [],
   "source": [
    "# show columns and their datatypes\n",
    "corpus.info()"
   ]
  },
  {
   "cell_type": "markdown",
   "metadata": {},
   "source": [
    "### 1.1 Datensatz chronologisch sortieren"
   ]
  },
  {
   "cell_type": "code",
   "execution_count": null,
   "metadata": {},
   "outputs": [],
   "source": [
    "# change dtype in data to pandas datetime-format\n",
    "corpus[\"date\"] = pd.to_datetime(corpus.date)\n",
    "\n",
    "# check datatypes\n",
    "corpus.dtypes"
   ]
  },
  {
   "cell_type": "code",
   "execution_count": null,
   "metadata": {},
   "outputs": [],
   "source": [
    "def order_by_year(dataframe, date):\n",
    "    \"\"\"Order dataframe object by year based \n",
    "    on column date.\"\"\"\n",
    "    df = dataframe.set_index(str(date))\n",
    "    df[\"year\"] = df.index.year\n",
    "    df = df.sort_index()\n",
    "    df = df.reset_index()\n",
    "    df = df.set_index(\"year\")\n",
    "    return df\n",
    "\n",
    "corpus = order_by_year(corpus, \"date\") # apply function"
   ]
  },
  {
   "cell_type": "code",
   "execution_count": null,
   "metadata": {},
   "outputs": [],
   "source": [
    "# view sorted dataframe\n",
    "corpus.head()"
   ]
  },
  {
   "cell_type": "code",
   "execution_count": null,
   "metadata": {},
   "outputs": [],
   "source": [
    "# save sorted dataframe\n",
    "# corpus.to_csv(\"data/speeches-bundesregierung_sorted.csv\")"
   ]
  },
  {
   "cell_type": "markdown",
   "metadata": {},
   "source": [
    "### 1.2 Beitragszahlen pro Jahr"
   ]
  },
  {
   "cell_type": "code",
   "execution_count": null,
   "metadata": {},
   "outputs": [],
   "source": [
    "# group corpus by year\n",
    "speeches_per_year = corpus.groupby(\"year\")\n",
    "speeches_per_year.size()"
   ]
  },
  {
   "cell_type": "code",
   "execution_count": null,
   "metadata": {},
   "outputs": [],
   "source": [
    "# plot speeches per year\n",
    "\n",
    "import matplotlib.pyplot as plt\n",
    "\n",
    "plt.figure(figsize=(10,7), dpi=360) # \n",
    "\n",
    "speeches_per_year.size().plot.bar()\n",
    "\n",
    "plt.title(\"Anzahl der Reden pro Jahr\", fontsize=22, fontstyle=\"oblique\")\n",
    "plt.xlabel(\"Jahr\", fontsize=20)\n",
    "plt.ylabel(\"Anzahl\", fontsize=20)\n",
    "plt.xticks(fontsize=15, rotation=60)\n",
    "plt.yticks(fontsize=15)\n",
    "#plt.grid(True) #\n",
    "plt.tight_layout() #\n",
    "#plt.savefig(\"PATH\") \n",
    "plt.show()"
   ]
  },
  {
   "cell_type": "markdown",
   "metadata": {},
   "source": [
    "### Übung 1: Datensatz nach Personen gruppieren\n",
    "\n",
    "Gruppieren Sie den Datensatz so, dass Ihnen ausgegeben wird, wie viele Reden pro Redner:in im Datensatz enthalten sind."
   ]
  },
  {
   "cell_type": "code",
   "execution_count": null,
   "metadata": {},
   "outputs": [],
   "source": [
    "# solution\n",
    "speeches_per_person = corpus.groupby(\"person\")\n",
    "speeches_per_person.size()"
   ]
  },
  {
   "cell_type": "code",
   "execution_count": null,
   "metadata": {},
   "outputs": [],
   "source": [
    "# plot speeches per person\n",
    "\n",
    "import matplotlib.pyplot as plt\n",
    "\n",
    "plt.figure(figsize=(10,7), dpi=360) # \n",
    "\n",
    "speeches_per_person.size().sort_values(ascending=False)[:10].plot.bar()\n",
    "\n",
    "plt.title(\"Anzahl der Reden pro Person\", fontsize=22, fontstyle=\"oblique\")\n",
    "plt.xlabel(\"Redner:in\", fontsize=20)\n",
    "plt.ylabel(\"Anzahl\", fontsize=20)\n",
    "plt.xticks(fontsize=15, rotation=60)\n",
    "plt.yticks(fontsize=15)\n",
    "#plt.grid(True) #\n",
    "plt.tight_layout() #\n",
    "#plt.savefig(\"PATH\") \n",
    "plt.show()"
   ]
  }
 ],
 "metadata": {
  "kernelspec": {
   "display_name": "Python 3 (ipykernel)",
   "language": "python",
   "name": "python3"
  },
  "language_info": {
   "codemirror_mode": {
    "name": "ipython",
    "version": 3
   },
   "file_extension": ".py",
   "mimetype": "text/x-python",
   "name": "python",
   "nbconvert_exporter": "python",
   "pygments_lexer": "ipython3",
   "version": "3.8.13"
  },
  "vscode": {
   "interpreter": {
    "hash": "c34e5b473f37e48abf21cbb9479ed39ebe54eb38842fb248096a64e4d7f58211"
   }
  }
 },
 "nbformat": 4,
 "nbformat_minor": 4
}
