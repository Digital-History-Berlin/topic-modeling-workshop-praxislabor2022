{
 "cells": [
  {
   "cell_type": "markdown",
   "metadata": {},
   "source": [
    "### Übung 1: Datensatz nach Personen gruppieren\n",
    "\n",
    "Gruppieren Sie den Datensatz so, dass Ihnen ausgegeben wird, wie viele Reden pro Redner:in im Datensatz enthalten sind."
   ]
  },
  {
   "cell_type": "code",
   "execution_count": null,
   "metadata": {},
   "outputs": [],
   "source": [
    "# solution\n",
    "speeches_per_person = corpus.groupby(\"person\")\n",
    "speeches_per_person.size()"
   ]
  },
  {
   "cell_type": "code",
   "execution_count": null,
   "metadata": {},
   "outputs": [],
   "source": [
    "# plot speeches per person\n",
    "\n",
    "import matplotlib.pyplot as plt\n",
    "\n",
    "plt.figure(figsize=(10,7), dpi=360)  \n",
    "\n",
    "speeches_per_person.size().sort_values(ascending=False)[:10].plot.bar() # new function .sort_values()\n",
    "\n",
    "plt.title(\"Anzahl der Reden pro Person\", fontsize=22, fontstyle=\"oblique\")\n",
    "plt.xlabel(\"Redner:in\", fontsize=20)\n",
    "plt.ylabel(\"Anzahl\", fontsize=20)\n",
    "plt.xticks(fontsize=15, rotation=60)\n",
    "plt.yticks(fontsize=15)\n",
    "#plt.grid(True) #\n",
    "plt.tight_layout() #\n",
    "#plt.savefig(\"PATH\") \n",
    "plt.show()"
   ]
  }
 ],
 "metadata": {
  "kernelspec": {
   "display_name": "Python 3.8.13 ('base')",
   "language": "python",
   "name": "python3"
  },
  "language_info": {
   "name": "python",
   "version": "3.8.13"
  },
  "orig_nbformat": 4,
  "vscode": {
   "interpreter": {
    "hash": "ab2bc7d93ca595a8547f73d141c9dac102da280dfea0255e9d7a3267ba9f4e63"
   }
  }
 },
 "nbformat": 4,
 "nbformat_minor": 2
}
